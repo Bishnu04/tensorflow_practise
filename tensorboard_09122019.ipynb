{
 "cells": [
  {
   "cell_type": "markdown",
   "metadata": {},
   "source": [
    "# Tensorboard\n",
    "\n",
    "---\n",
    "\n",
    "\n",
    "Full official tutorial available here: https://www.tensorflow.org/tensorboard/get_started\n",
    "\n",
    "## Data"
   ]
  },
  {
   "cell_type": "code",
   "execution_count": 23,
   "metadata": {},
   "outputs": [],
   "source": [
    "import pandas as pd\n",
    "import numpy as np\n",
    "import os"
   ]
  },
  {
   "cell_type": "code",
   "execution_count": 2,
   "metadata": {},
   "outputs": [],
   "source": [
    "df = pd.read_csv('course_notebooks/DATA/cancer_classification.csv')"
   ]
  },
  {
   "cell_type": "markdown",
   "metadata": {},
   "source": [
    "### Train Test Split"
   ]
  },
  {
   "cell_type": "code",
   "execution_count": 3,
   "metadata": {},
   "outputs": [],
   "source": [
    "X = df.drop('benign_0__mal_1',axis=1).values\n",
    "y = df['benign_0__mal_1'].values"
   ]
  },
  {
   "cell_type": "code",
   "execution_count": 4,
   "metadata": {},
   "outputs": [],
   "source": [
    "from sklearn.model_selection import train_test_split"
   ]
  },
  {
   "cell_type": "code",
   "execution_count": 5,
   "metadata": {},
   "outputs": [],
   "source": [
    "X_train, X_test, y_train, y_test = train_test_split(X,y,test_size=0.25,random_state=101)"
   ]
  },
  {
   "cell_type": "markdown",
   "metadata": {},
   "source": [
    "\n",
    "### Scaling Data"
   ]
  },
  {
   "cell_type": "code",
   "execution_count": 6,
   "metadata": {},
   "outputs": [],
   "source": [
    "from sklearn.preprocessing import MinMaxScaler"
   ]
  },
  {
   "cell_type": "code",
   "execution_count": 7,
   "metadata": {},
   "outputs": [],
   "source": [
    "scaler = MinMaxScaler()"
   ]
  },
  {
   "cell_type": "code",
   "execution_count": 8,
   "metadata": {},
   "outputs": [
    {
     "data": {
      "text/plain": [
       "MinMaxScaler(copy=True, feature_range=(0, 1))"
      ]
     },
     "execution_count": 8,
     "metadata": {},
     "output_type": "execute_result"
    }
   ],
   "source": [
    "scaler.fit(X_train)"
   ]
  },
  {
   "cell_type": "code",
   "execution_count": 9,
   "metadata": {},
   "outputs": [],
   "source": [
    "X_train = scaler.transform(X_train)\n",
    "X_test = scaler.transform(X_test)"
   ]
  },
  {
   "cell_type": "markdown",
   "metadata": {},
   "source": [
    "## Creating the Model"
   ]
  },
  {
   "cell_type": "code",
   "execution_count": 10,
   "metadata": {},
   "outputs": [],
   "source": [
    "import tensorflow as tf\n",
    "from tensorflow.keras.models import Sequential\n",
    "from tensorflow.keras.layers import Dense, Activation,Dropout"
   ]
  },
  {
   "cell_type": "code",
   "execution_count": 11,
   "metadata": {},
   "outputs": [],
   "source": [
    "from tensorflow.keras.callbacks import EarlyStopping,TensorBoard"
   ]
  },
  {
   "cell_type": "code",
   "execution_count": 12,
   "metadata": {},
   "outputs": [],
   "source": [
    "early_stop = EarlyStopping(monitor='val_loss', mode='min', verbose=1, patience=25)"
   ]
  },
  {
   "cell_type": "code",
   "execution_count": 13,
   "metadata": {},
   "outputs": [
    {
     "data": {
      "text/plain": [
       "'/Users/fu777kd/Desktop/coding/tensorflow_practise'"
      ]
     },
     "execution_count": 13,
     "metadata": {},
     "output_type": "execute_result"
    }
   ],
   "source": [
    "pwd"
   ]
  },
  {
   "cell_type": "markdown",
   "metadata": {},
   "source": [
    "## Creating the Tensorboard Callback\n",
    "\n",
    "TensorBoard is a visualization tool provided with TensorFlow.\n",
    "\n",
    "This callback logs events for TensorBoard, including:\n",
    "* Metrics summary plots\n",
    "* Training graph visualization\n",
    "* Activation histograms\n",
    "* Sampled profiling\n",
    "\n",
    "If you have installed TensorFlow with pip, you should be able\n",
    "to launch TensorBoard from the command line:\n",
    "\n",
    "```sh\n",
    "tensorboard --logdir=path_to_your_logs\n",
    "```\n",
    "\n",
    "You can find more information about TensorBoard\n",
    "[here](https://www.tensorflow.org/tensorboard/).\n",
    "\n",
    "    Arguments:\n",
    "        log_dir: the path of the directory where to save the log files to be\n",
    "          parsed by TensorBoard.\n",
    "        histogram_freq: frequency (in epochs) at which to compute activation and\n",
    "          weight histograms for the layers of the model. If set to 0, histograms\n",
    "          won't be computed. Validation data (or split) must be specified for\n",
    "          histogram visualizations.\n",
    "        write_graph: whether to visualize the graph in TensorBoard. The log file\n",
    "          can become quite large when write_graph is set to True.\n",
    "        write_images: whether to write model weights to visualize as image in\n",
    "          TensorBoard.\n",
    "        update_freq: `'batch'` or `'epoch'` or integer. When using `'batch'`,\n",
    "          writes the losses and metrics to TensorBoard after each batch. The same\n",
    "          applies for `'epoch'`. If using an integer, let's say `1000`, the\n",
    "          callback will write the metrics and losses to TensorBoard every 1000\n",
    "          samples. Note that writing too frequently to TensorBoard can slow down\n",
    "          your training.\n",
    "        profile_batch: Profile the batch to sample compute characteristics. By\n",
    "          default, it will profile the second batch. Set profile_batch=0 to\n",
    "          disable profiling. Must run in TensorFlow eager mode.\n",
    "        embeddings_freq: frequency (in epochs) at which embedding layers will\n",
    "          be visualized. If set to 0, embeddings won't be visualized.\n",
    "       "
   ]
  },
  {
   "cell_type": "code",
   "execution_count": 14,
   "metadata": {},
   "outputs": [],
   "source": [
    "from datetime import datetime"
   ]
  },
  {
   "cell_type": "code",
   "execution_count": 15,
   "metadata": {},
   "outputs": [
    {
     "data": {
      "text/plain": [
       "'2019-12-09--1317'"
      ]
     },
     "execution_count": 15,
     "metadata": {},
     "output_type": "execute_result"
    }
   ],
   "source": [
    "datetime.now().strftime(\"%Y-%m-%d--%H%M\")"
   ]
  },
  {
   "cell_type": "code",
   "execution_count": 30,
   "metadata": {},
   "outputs": [],
   "source": [
    "log_directory = os.path.join(os.curdir, 'logs', 'fit')\n",
    "os.makedirs(log_directory, exist_ok=True)"
   ]
  },
  {
   "cell_type": "code",
   "execution_count": 31,
   "metadata": {},
   "outputs": [],
   "source": [
    "board = TensorBoard(log_dir=log_directory,histogram_freq=1,\n",
    "    write_graph=True,\n",
    "    write_images=True,\n",
    "    update_freq='epoch',\n",
    "    profile_batch=2,\n",
    "    embeddings_freq=1)"
   ]
  },
  {
   "cell_type": "markdown",
   "metadata": {},
   "source": [
    "Now create the model layers:"
   ]
  },
  {
   "cell_type": "code",
   "execution_count": 32,
   "metadata": {},
   "outputs": [],
   "source": [
    "model = Sequential()\n",
    "model.add(Dense(units=30,activation='relu'))\n",
    "model.add(Dropout(0.5))\n",
    "model.add(Dense(units=15,activation='relu'))\n",
    "model.add(Dropout(0.5))\n",
    "model.add(Dense(units=1,activation='sigmoid'))\n",
    "model.compile(loss='binary_crossentropy', optimizer='adam')"
   ]
  },
  {
   "cell_type": "markdown",
   "metadata": {},
   "source": [
    "## Train the Model"
   ]
  },
  {
   "cell_type": "code",
   "execution_count": 33,
   "metadata": {},
   "outputs": [
    {
     "name": "stdout",
     "output_type": "stream",
     "text": [
      "Train on 426 samples, validate on 143 samples\n",
      "Epoch 1/600\n",
      "426/426 [==============================] - 1s 1ms/sample - loss: 0.7003 - val_loss: 0.6763\n",
      "Epoch 2/600\n",
      "426/426 [==============================] - 0s 144us/sample - loss: 0.6728 - val_loss: 0.6462\n",
      "Epoch 3/600\n",
      "426/426 [==============================] - 0s 173us/sample - loss: 0.6451 - val_loss: 0.6215\n",
      "Epoch 4/600\n",
      "426/426 [==============================] - 0s 216us/sample - loss: 0.6126 - val_loss: 0.5935\n",
      "Epoch 5/600\n",
      "426/426 [==============================] - 0s 298us/sample - loss: 0.6038 - val_loss: 0.5561\n",
      "Epoch 6/600\n",
      "426/426 [==============================] - 0s 183us/sample - loss: 0.5550 - val_loss: 0.5243\n",
      "Epoch 7/600\n",
      "426/426 [==============================] - 0s 194us/sample - loss: 0.5434 - val_loss: 0.4867\n",
      "Epoch 8/600\n",
      "426/426 [==============================] - 0s 197us/sample - loss: 0.5181 - val_loss: 0.4525\n",
      "Epoch 9/600\n",
      "426/426 [==============================] - 0s 252us/sample - loss: 0.4974 - val_loss: 0.4232\n",
      "Epoch 10/600\n",
      "426/426 [==============================] - 0s 208us/sample - loss: 0.5054 - val_loss: 0.3985\n",
      "Epoch 11/600\n",
      "426/426 [==============================] - 0s 211us/sample - loss: 0.4835 - val_loss: 0.3776\n",
      "Epoch 12/600\n",
      "426/426 [==============================] - 0s 176us/sample - loss: 0.4212 - val_loss: 0.3518\n",
      "Epoch 13/600\n",
      "426/426 [==============================] - 0s 164us/sample - loss: 0.4125 - val_loss: 0.3264\n",
      "Epoch 14/600\n",
      "426/426 [==============================] - 0s 141us/sample - loss: 0.4225 - val_loss: 0.3102\n",
      "Epoch 15/600\n",
      "426/426 [==============================] - 0s 147us/sample - loss: 0.4181 - val_loss: 0.3044\n",
      "Epoch 16/600\n",
      "426/426 [==============================] - 0s 151us/sample - loss: 0.3821 - val_loss: 0.2919\n",
      "Epoch 17/600\n",
      "426/426 [==============================] - 0s 126us/sample - loss: 0.3746 - val_loss: 0.2743\n",
      "Epoch 18/600\n",
      "426/426 [==============================] - 0s 142us/sample - loss: 0.3528 - val_loss: 0.2589\n",
      "Epoch 19/600\n",
      "426/426 [==============================] - 0s 182us/sample - loss: 0.3422 - val_loss: 0.2463\n",
      "Epoch 20/600\n",
      "426/426 [==============================] - 0s 161us/sample - loss: 0.3219 - val_loss: 0.2357\n",
      "Epoch 21/600\n",
      "426/426 [==============================] - 0s 170us/sample - loss: 0.3215 - val_loss: 0.2234\n",
      "Epoch 22/600\n",
      "426/426 [==============================] - 0s 142us/sample - loss: 0.3119 - val_loss: 0.2114\n",
      "Epoch 23/600\n",
      "426/426 [==============================] - 0s 150us/sample - loss: 0.3020 - val_loss: 0.2037\n",
      "Epoch 24/600\n",
      "426/426 [==============================] - 0s 139us/sample - loss: 0.3041 - val_loss: 0.2062\n",
      "Epoch 25/600\n",
      "426/426 [==============================] - 0s 138us/sample - loss: 0.3052 - val_loss: 0.1982\n",
      "Epoch 26/600\n",
      "426/426 [==============================] - 0s 147us/sample - loss: 0.2797 - val_loss: 0.1858\n",
      "Epoch 27/600\n",
      "426/426 [==============================] - 0s 155us/sample - loss: 0.2829 - val_loss: 0.1841\n",
      "Epoch 28/600\n",
      "426/426 [==============================] - 0s 158us/sample - loss: 0.2618 - val_loss: 0.1746\n",
      "Epoch 29/600\n",
      "426/426 [==============================] - 0s 160us/sample - loss: 0.2881 - val_loss: 0.1750\n",
      "Epoch 30/600\n",
      "426/426 [==============================] - 0s 152us/sample - loss: 0.2637 - val_loss: 0.1677\n",
      "Epoch 31/600\n",
      "426/426 [==============================] - 0s 153us/sample - loss: 0.2655 - val_loss: 0.1680\n",
      "Epoch 32/600\n",
      "426/426 [==============================] - 0s 160us/sample - loss: 0.2515 - val_loss: 0.1588\n",
      "Epoch 33/600\n",
      "426/426 [==============================] - 0s 133us/sample - loss: 0.2519 - val_loss: 0.1516\n",
      "Epoch 34/600\n",
      "426/426 [==============================] - 0s 139us/sample - loss: 0.2437 - val_loss: 0.1518\n",
      "Epoch 35/600\n",
      "426/426 [==============================] - 0s 140us/sample - loss: 0.2379 - val_loss: 0.1631\n",
      "Epoch 36/600\n",
      "426/426 [==============================] - 0s 154us/sample - loss: 0.2186 - val_loss: 0.1392\n",
      "Epoch 37/600\n",
      "426/426 [==============================] - 0s 163us/sample - loss: 0.2105 - val_loss: 0.1362\n",
      "Epoch 38/600\n",
      "426/426 [==============================] - 0s 160us/sample - loss: 0.2134 - val_loss: 0.1394\n",
      "Epoch 39/600\n",
      "426/426 [==============================] - 0s 200us/sample - loss: 0.2026 - val_loss: 0.1373\n",
      "Epoch 40/600\n",
      "426/426 [==============================] - 0s 149us/sample - loss: 0.2088 - val_loss: 0.1319\n",
      "Epoch 41/600\n",
      "426/426 [==============================] - 0s 161us/sample - loss: 0.1932 - val_loss: 0.1275\n",
      "Epoch 42/600\n",
      "426/426 [==============================] - 0s 172us/sample - loss: 0.2041 - val_loss: 0.1205\n",
      "Epoch 43/600\n",
      "426/426 [==============================] - 0s 165us/sample - loss: 0.2010 - val_loss: 0.1181\n",
      "Epoch 44/600\n",
      "426/426 [==============================] - 0s 129us/sample - loss: 0.1890 - val_loss: 0.1295\n",
      "Epoch 45/600\n",
      "426/426 [==============================] - 0s 129us/sample - loss: 0.1733 - val_loss: 0.1257\n",
      "Epoch 46/600\n",
      "426/426 [==============================] - 0s 135us/sample - loss: 0.2101 - val_loss: 0.1180\n",
      "Epoch 47/600\n",
      "426/426 [==============================] - 0s 126us/sample - loss: 0.1831 - val_loss: 0.1186\n",
      "Epoch 48/600\n",
      "426/426 [==============================] - 0s 131us/sample - loss: 0.1662 - val_loss: 0.1142\n",
      "Epoch 49/600\n",
      "426/426 [==============================] - 0s 126us/sample - loss: 0.1719 - val_loss: 0.1136\n",
      "Epoch 50/600\n",
      "426/426 [==============================] - 0s 127us/sample - loss: 0.1634 - val_loss: 0.1144\n",
      "Epoch 51/600\n",
      "426/426 [==============================] - 0s 129us/sample - loss: 0.1862 - val_loss: 0.1125\n",
      "Epoch 52/600\n",
      "426/426 [==============================] - 0s 127us/sample - loss: 0.1952 - val_loss: 0.1031\n",
      "Epoch 53/600\n",
      "426/426 [==============================] - 0s 128us/sample - loss: 0.1611 - val_loss: 0.1004\n",
      "Epoch 54/600\n",
      "426/426 [==============================] - 0s 131us/sample - loss: 0.1876 - val_loss: 0.1046\n",
      "Epoch 55/600\n",
      "426/426 [==============================] - 0s 122us/sample - loss: 0.1675 - val_loss: 0.1028\n",
      "Epoch 56/600\n",
      "426/426 [==============================] - 0s 127us/sample - loss: 0.1930 - val_loss: 0.1024\n",
      "Epoch 57/600\n",
      "426/426 [==============================] - 0s 165us/sample - loss: 0.1477 - val_loss: 0.0962\n",
      "Epoch 58/600\n",
      "426/426 [==============================] - 0s 157us/sample - loss: 0.1773 - val_loss: 0.0968\n",
      "Epoch 59/600\n",
      "426/426 [==============================] - 0s 156us/sample - loss: 0.1767 - val_loss: 0.1013\n",
      "Epoch 60/600\n",
      "426/426 [==============================] - 0s 134us/sample - loss: 0.1558 - val_loss: 0.0970\n",
      "Epoch 61/600\n",
      "426/426 [==============================] - 0s 126us/sample - loss: 0.1601 - val_loss: 0.1084\n",
      "Epoch 62/600\n",
      "426/426 [==============================] - 0s 136us/sample - loss: 0.1526 - val_loss: 0.0980\n",
      "Epoch 63/600\n",
      "426/426 [==============================] - 0s 132us/sample - loss: 0.1582 - val_loss: 0.0921\n",
      "Epoch 64/600\n",
      "426/426 [==============================] - 0s 142us/sample - loss: 0.1284 - val_loss: 0.0924\n",
      "Epoch 65/600\n",
      "426/426 [==============================] - 0s 131us/sample - loss: 0.1468 - val_loss: 0.0852\n",
      "Epoch 66/600\n",
      "426/426 [==============================] - 0s 128us/sample - loss: 0.1454 - val_loss: 0.0941\n",
      "Epoch 67/600\n",
      "426/426 [==============================] - 0s 133us/sample - loss: 0.1518 - val_loss: 0.0958\n",
      "Epoch 68/600\n",
      "426/426 [==============================] - 0s 133us/sample - loss: 0.1279 - val_loss: 0.0990\n",
      "Epoch 69/600\n",
      "426/426 [==============================] - 0s 123us/sample - loss: 0.1432 - val_loss: 0.1036\n",
      "Epoch 70/600\n",
      "426/426 [==============================] - 0s 125us/sample - loss: 0.1299 - val_loss: 0.0860\n",
      "Epoch 71/600\n",
      "426/426 [==============================] - 0s 125us/sample - loss: 0.1553 - val_loss: 0.0917\n",
      "Epoch 72/600\n",
      "426/426 [==============================] - 0s 124us/sample - loss: 0.1419 - val_loss: 0.0918\n",
      "Epoch 73/600\n",
      "426/426 [==============================] - 0s 129us/sample - loss: 0.1083 - val_loss: 0.0873\n",
      "Epoch 74/600\n",
      "426/426 [==============================] - 0s 126us/sample - loss: 0.1234 - val_loss: 0.0858\n",
      "Epoch 75/600\n",
      "426/426 [==============================] - 0s 131us/sample - loss: 0.1189 - val_loss: 0.0964\n",
      "Epoch 76/600\n",
      "426/426 [==============================] - 0s 119us/sample - loss: 0.1123 - val_loss: 0.0897\n",
      "Epoch 77/600\n",
      "426/426 [==============================] - 0s 132us/sample - loss: 0.1155 - val_loss: 0.0902\n"
     ]
    },
    {
     "name": "stdout",
     "output_type": "stream",
     "text": [
      "Epoch 78/600\n",
      "426/426 [==============================] - 0s 150us/sample - loss: 0.1147 - val_loss: 0.0833\n",
      "Epoch 79/600\n",
      "426/426 [==============================] - 0s 150us/sample - loss: 0.1453 - val_loss: 0.0889\n",
      "Epoch 80/600\n",
      "426/426 [==============================] - 0s 144us/sample - loss: 0.1126 - val_loss: 0.0867\n",
      "Epoch 81/600\n",
      "426/426 [==============================] - 0s 128us/sample - loss: 0.1159 - val_loss: 0.0822\n",
      "Epoch 82/600\n",
      "426/426 [==============================] - 0s 126us/sample - loss: 0.1075 - val_loss: 0.0895\n",
      "Epoch 83/600\n",
      "426/426 [==============================] - 0s 126us/sample - loss: 0.1294 - val_loss: 0.0788\n",
      "Epoch 84/600\n",
      "426/426 [==============================] - 0s 127us/sample - loss: 0.1137 - val_loss: 0.0792\n",
      "Epoch 85/600\n",
      "426/426 [==============================] - 0s 131us/sample - loss: 0.1277 - val_loss: 0.0807\n",
      "Epoch 86/600\n",
      "426/426 [==============================] - 0s 127us/sample - loss: 0.1327 - val_loss: 0.0875\n",
      "Epoch 87/600\n",
      "426/426 [==============================] - 0s 129us/sample - loss: 0.1081 - val_loss: 0.0795\n",
      "Epoch 88/600\n",
      "426/426 [==============================] - 0s 123us/sample - loss: 0.0976 - val_loss: 0.0867\n",
      "Epoch 89/600\n",
      "426/426 [==============================] - 0s 124us/sample - loss: 0.1024 - val_loss: 0.0910\n",
      "Epoch 90/600\n",
      "426/426 [==============================] - 0s 122us/sample - loss: 0.1192 - val_loss: 0.0775\n",
      "Epoch 91/600\n",
      "426/426 [==============================] - 0s 123us/sample - loss: 0.1110 - val_loss: 0.0800\n",
      "Epoch 92/600\n",
      "426/426 [==============================] - 0s 128us/sample - loss: 0.1180 - val_loss: 0.0814\n",
      "Epoch 93/600\n",
      "426/426 [==============================] - 0s 130us/sample - loss: 0.1054 - val_loss: 0.0990\n",
      "Epoch 94/600\n",
      "426/426 [==============================] - 0s 130us/sample - loss: 0.1310 - val_loss: 0.0824\n",
      "Epoch 95/600\n",
      "426/426 [==============================] - 0s 141us/sample - loss: 0.1069 - val_loss: 0.0775\n",
      "Epoch 96/600\n",
      "426/426 [==============================] - 0s 144us/sample - loss: 0.1015 - val_loss: 0.0735\n",
      "Epoch 97/600\n",
      "426/426 [==============================] - 0s 153us/sample - loss: 0.1197 - val_loss: 0.0838\n",
      "Epoch 98/600\n",
      "426/426 [==============================] - 0s 176us/sample - loss: 0.0997 - val_loss: 0.0785\n",
      "Epoch 99/600\n",
      "426/426 [==============================] - 0s 203us/sample - loss: 0.1026 - val_loss: 0.0826\n",
      "Epoch 100/600\n",
      "426/426 [==============================] - 0s 184us/sample - loss: 0.0896 - val_loss: 0.0729\n",
      "Epoch 101/600\n",
      "426/426 [==============================] - 0s 178us/sample - loss: 0.1176 - val_loss: 0.0908\n",
      "Epoch 102/600\n",
      "426/426 [==============================] - 0s 138us/sample - loss: 0.1170 - val_loss: 0.0828\n",
      "Epoch 103/600\n",
      "426/426 [==============================] - 0s 130us/sample - loss: 0.1142 - val_loss: 0.0770\n",
      "Epoch 104/600\n",
      "426/426 [==============================] - 0s 133us/sample - loss: 0.0878 - val_loss: 0.0810\n",
      "Epoch 105/600\n",
      "426/426 [==============================] - 0s 138us/sample - loss: 0.1126 - val_loss: 0.0904\n",
      "Epoch 106/600\n",
      "426/426 [==============================] - 0s 141us/sample - loss: 0.0941 - val_loss: 0.0833\n",
      "Epoch 107/600\n",
      "426/426 [==============================] - 0s 154us/sample - loss: 0.1236 - val_loss: 0.0831\n",
      "Epoch 108/600\n",
      "426/426 [==============================] - 0s 160us/sample - loss: 0.0835 - val_loss: 0.0967\n",
      "Epoch 109/600\n",
      "426/426 [==============================] - 0s 182us/sample - loss: 0.0943 - val_loss: 0.0781\n",
      "Epoch 110/600\n",
      "426/426 [==============================] - 0s 168us/sample - loss: 0.1025 - val_loss: 0.0813\n",
      "Epoch 111/600\n",
      "426/426 [==============================] - 0s 150us/sample - loss: 0.1035 - val_loss: 0.0759\n",
      "Epoch 112/600\n",
      "426/426 [==============================] - 0s 151us/sample - loss: 0.1027 - val_loss: 0.0799\n",
      "Epoch 113/600\n",
      "426/426 [==============================] - 0s 173us/sample - loss: 0.0896 - val_loss: 0.0761\n",
      "Epoch 114/600\n",
      "426/426 [==============================] - 0s 175us/sample - loss: 0.0864 - val_loss: 0.0761\n",
      "Epoch 115/600\n",
      "426/426 [==============================] - 0s 201us/sample - loss: 0.1119 - val_loss: 0.0875\n",
      "Epoch 116/600\n",
      "426/426 [==============================] - 0s 260us/sample - loss: 0.1134 - val_loss: 0.0732\n",
      "Epoch 117/600\n",
      "426/426 [==============================] - 0s 201us/sample - loss: 0.0878 - val_loss: 0.0702\n",
      "Epoch 118/600\n",
      "426/426 [==============================] - 0s 148us/sample - loss: 0.0752 - val_loss: 0.0807\n",
      "Epoch 119/600\n",
      "426/426 [==============================] - 0s 116us/sample - loss: 0.1008 - val_loss: 0.0687\n",
      "Epoch 120/600\n",
      "426/426 [==============================] - 0s 118us/sample - loss: 0.0915 - val_loss: 0.0932\n",
      "Epoch 121/600\n",
      "426/426 [==============================] - 0s 117us/sample - loss: 0.0893 - val_loss: 0.0743\n",
      "Epoch 122/600\n",
      "426/426 [==============================] - 0s 121us/sample - loss: 0.0968 - val_loss: 0.0703\n",
      "Epoch 123/600\n",
      "426/426 [==============================] - 0s 113us/sample - loss: 0.0954 - val_loss: 0.0898\n",
      "Epoch 124/600\n",
      "426/426 [==============================] - 0s 120us/sample - loss: 0.0933 - val_loss: 0.0776\n",
      "Epoch 125/600\n",
      "426/426 [==============================] - 0s 117us/sample - loss: 0.0928 - val_loss: 0.0747\n",
      "Epoch 126/600\n",
      "426/426 [==============================] - 0s 117us/sample - loss: 0.1091 - val_loss: 0.0815\n",
      "Epoch 127/600\n",
      "426/426 [==============================] - 0s 114us/sample - loss: 0.0837 - val_loss: 0.0697\n",
      "Epoch 128/600\n",
      "426/426 [==============================] - 0s 141us/sample - loss: 0.1006 - val_loss: 0.0792\n",
      "Epoch 129/600\n",
      "426/426 [==============================] - 0s 142us/sample - loss: 0.0808 - val_loss: 0.1062\n",
      "Epoch 130/600\n",
      "426/426 [==============================] - 0s 137us/sample - loss: 0.0939 - val_loss: 0.0738\n",
      "Epoch 131/600\n",
      "426/426 [==============================] - 0s 142us/sample - loss: 0.0714 - val_loss: 0.0689\n",
      "Epoch 132/600\n",
      "426/426 [==============================] - 0s 137us/sample - loss: 0.1074 - val_loss: 0.0844\n",
      "Epoch 133/600\n",
      "426/426 [==============================] - 0s 131us/sample - loss: 0.0854 - val_loss: 0.0795\n",
      "Epoch 134/600\n",
      "426/426 [==============================] - 0s 137us/sample - loss: 0.0750 - val_loss: 0.0758\n",
      "Epoch 135/600\n",
      "426/426 [==============================] - 0s 137us/sample - loss: 0.0800 - val_loss: 0.0879\n",
      "Epoch 136/600\n",
      "426/426 [==============================] - 0s 187us/sample - loss: 0.0688 - val_loss: 0.0901\n",
      "Epoch 137/600\n",
      "426/426 [==============================] - 0s 217us/sample - loss: 0.0752 - val_loss: 0.0803\n",
      "Epoch 138/600\n",
      "426/426 [==============================] - 0s 216us/sample - loss: 0.0878 - val_loss: 0.0887\n",
      "Epoch 139/600\n",
      "426/426 [==============================] - 0s 162us/sample - loss: 0.0935 - val_loss: 0.0743\n",
      "Epoch 140/600\n",
      "426/426 [==============================] - 0s 134us/sample - loss: 0.1066 - val_loss: 0.0788\n",
      "Epoch 141/600\n",
      "426/426 [==============================] - 0s 119us/sample - loss: 0.0999 - val_loss: 0.0828\n",
      "Epoch 142/600\n",
      "426/426 [==============================] - 0s 115us/sample - loss: 0.0787 - val_loss: 0.0872\n",
      "Epoch 143/600\n",
      "426/426 [==============================] - 0s 118us/sample - loss: 0.0926 - val_loss: 0.0828\n",
      "Epoch 144/600\n",
      "426/426 [==============================] - 0s 122us/sample - loss: 0.0870 - val_loss: 0.0980\n",
      "Epoch 00144: early stopping\n"
     ]
    },
    {
     "data": {
      "text/plain": [
       "<tensorflow.python.keras.callbacks.History at 0x148868cc0>"
      ]
     },
     "execution_count": 33,
     "metadata": {},
     "output_type": "execute_result"
    }
   ],
   "source": [
    "model.fit(x=X_train, \n",
    "          y=y_train, \n",
    "          epochs=600,\n",
    "          validation_data=(X_test, y_test), verbose=1,\n",
    "          callbacks=[early_stop,board]\n",
    "          )"
   ]
  },
  {
   "cell_type": "markdown",
   "metadata": {},
   "source": [
    "# Running Tensorboard\n"
   ]
  },
  {
   "cell_type": "markdown",
   "metadata": {},
   "source": [
    "## Running through the Command Line\n",
    "\n",
    "**Watch video to see how to run Tensorboard through a command line call.**"
   ]
  },
  {
   "cell_type": "markdown",
   "metadata": {},
   "source": [
    "Tensorboard will run locally in your browser at [http://localhost:6006/](http://localhost:6006/)\n"
   ]
  },
  {
   "cell_type": "code",
   "execution_count": 34,
   "metadata": {},
   "outputs": [
    {
     "name": "stdout",
     "output_type": "stream",
     "text": [
      "./logs/fit\n"
     ]
    }
   ],
   "source": [
    "print(log_directory)"
   ]
  },
  {
   "cell_type": "code",
   "execution_count": 35,
   "metadata": {},
   "outputs": [
    {
     "data": {
      "text/plain": [
       "'/Users/fu777kd/Desktop/coding/tensorflow_practise'"
      ]
     },
     "execution_count": 35,
     "metadata": {},
     "output_type": "execute_result"
    }
   ],
   "source": [
    "pwd"
   ]
  },
  {
   "cell_type": "markdown",
   "metadata": {},
   "source": [
    "### Use cd at your command line to change directory to the file path reported back by pwd or your current .py file location.\n",
    "### Then run this code at your command line or terminal"
   ]
  },
  {
   "cell_type": "code",
   "execution_count": 39,
   "metadata": {},
   "outputs": [],
   "source": [
    "# tensorboard --logdir logs\\fit "
   ]
  }
 ],
 "metadata": {
  "kernelspec": {
   "display_name": "Python 3",
   "language": "python",
   "name": "python3"
  },
  "language_info": {
   "codemirror_mode": {
    "name": "ipython",
    "version": 3
   },
   "file_extension": ".py",
   "mimetype": "text/x-python",
   "name": "python",
   "nbconvert_exporter": "python",
   "pygments_lexer": "ipython3",
   "version": "3.6.5"
  }
 },
 "nbformat": 4,
 "nbformat_minor": 2
}
